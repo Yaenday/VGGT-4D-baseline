{
 "cells": [
  {
   "cell_type": "code",
   "execution_count": null,
   "id": "274bf759",
   "metadata": {},
   "outputs": [],
   "source": [
    "import os, sys\n",
    "sys.path.append(\"/root/autodl-tmp/hai/VGGT-4D-baseline/third_party/4DGaussians/scene\")\n",
    "from colmap_loader import read_points3D_binary"
   ]
  },
  {
   "cell_type": "code",
   "execution_count": null,
   "id": "da10c259",
   "metadata": {},
   "outputs": [],
   "source": [
    "bin_path = \"/root/autodl-tmp/hai/VGGT-4D-baseline/data/vggt/nvidia/Balloon1/sparse/0/points3D.bin\""
   ]
  },
  {
   "cell_type": "code",
   "execution_count": null,
   "id": "ed6f723d",
   "metadata": {},
   "outputs": [],
   "source": [
    "xyz, rgb, _ = read_points3D_binary(bin_path)"
   ]
  }
 ],
 "metadata": {
  "kernelspec": {
   "display_name": "4DGS",
   "language": "python",
   "name": "python3"
  },
  "language_info": {
   "name": "python",
   "version": "3.10.18"
  }
 },
 "nbformat": 4,
 "nbformat_minor": 5
}
